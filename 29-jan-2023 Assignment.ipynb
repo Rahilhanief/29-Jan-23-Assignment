{
 "cells": [
  {
   "cell_type": "code",
   "execution_count": 32,
   "id": "d11cca98-c3f6-4f46-97b3-272c03ab03a8",
   "metadata": {},
   "outputs": [
    {
     "data": {
      "text/plain": [
       "'The idea of Python was conceived by Guido van Rossum in the later 1980s at the Centrum\\nWiskunde & Informatica (CWI), Netherlands.\\nIt was seen to be a successor to the ABC programming language.'"
      ]
     },
     "execution_count": 32,
     "metadata": {},
     "output_type": "execute_result"
    }
   ],
   "source": [
    "### Q No.1 : Who developed python programming language?\n",
    "\n",
    "\"\"\"The idea of Python was conceived by Guido van Rossum in the later 1980s at the Centrum\n",
    "Wiskunde & Informatica (CWI), Netherlands.\n",
    "It was seen to be a successor to the ABC programming language.\"\"\""
   ]
  },
  {
   "cell_type": "code",
   "execution_count": 19,
   "id": "2e2ecbe8-4b2e-4e84-9d89-c8c91bf204ee",
   "metadata": {},
   "outputs": [],
   "source": [
    "### Q No.2 :Which type of programming does python support?\n",
    "\n",
    "## Python is an interpreted programming language,supporting object-oriented, structured,and functional programming."
   ]
  },
  {
   "cell_type": "code",
   "execution_count": 34,
   "id": "33b911e1-f01c-480b-958c-1769e1a9ea18",
   "metadata": {},
   "outputs": [
    {
     "data": {
      "text/plain": [
       "'Python is a case-sensitive language. This means, Variable and variable are not the same.\\nAlways give the identifiers a name that makes sense.'"
      ]
     },
     "execution_count": 34,
     "metadata": {},
     "output_type": "execute_result"
    }
   ],
   "source": [
    "### Q No.3 : Is python case sensitive when dealing with identifiers?\n",
    "\n",
    "\"\"\"Python is a case-sensitive language. This means, Variable and variable are not the same.\n",
    "Always give the identifiers a name that makes sense.\"\"\"\n"
   ]
  },
  {
   "cell_type": "code",
   "execution_count": 21,
   "id": "8a4214ed-f5ea-48cf-89e0-97f4a187054a",
   "metadata": {},
   "outputs": [],
   "source": [
    "### Q No. 4 :What is the correct extension of the python file?\n",
    "\n",
    "## .py is the correct extension of the Python file."
   ]
  },
  {
   "cell_type": "code",
   "execution_count": 22,
   "id": "a4c6e938-a092-4ac6-84bc-20ec3e9b583a",
   "metadata": {},
   "outputs": [
    {
     "data": {
      "text/plain": [
       "'Python is an interpreted language and not a compiled one,which means the source code of a\\nPython program is converted into bytecode that is then executed by the Python virtual machine'"
      ]
     },
     "execution_count": 22,
     "metadata": {},
     "output_type": "execute_result"
    }
   ],
   "source": [
    "## Q No. 5 : Is python code compiled or interpreted?\n",
    "\n",
    "\"\"\"Python is an interpreted language and not a compiled one,which means the source code of a\n",
    "Python program is converted into bytecode that is then executed by the Python virtual machine\"\"\""
   ]
  },
  {
   "cell_type": "code",
   "execution_count": 23,
   "id": "3e6ff493-34f8-4479-92df-7ea611b2371f",
   "metadata": {},
   "outputs": [
    {
     "data": {
      "text/plain": [
       "'\\nA Python program is constructed from code blocks.\\nA block is a piece of Python program text that is executed as a unit.\\nThe following are blocks: a module, a function body, and a class definition.\\n'"
      ]
     },
     "execution_count": 23,
     "metadata": {},
     "output_type": "execute_result"
    }
   ],
   "source": [
    "### Q No. 6 : Name a few blocks of code used to define in python language?\n",
    "\n",
    "\"\"\"\n",
    "A Python program is constructed from code blocks.\n",
    "A block is a piece of Python program text that is executed as a unit.\n",
    "The following are blocks: a module, a function body, and a class definition.\n",
    "\"\"\""
   ]
  },
  {
   "cell_type": "code",
   "execution_count": 27,
   "id": "770fdabc-4082-47a8-a5d7-e6d0bfa726e7",
   "metadata": {},
   "outputs": [],
   "source": [
    "###Q No. 7 :State a character used to give single-line comments in python?\n",
    "\n",
    "## We can write a single-line comment by adding a single # character before any statement or line of code."
   ]
  },
  {
   "cell_type": "code",
   "execution_count": 28,
   "id": "c2e9b95b-c820-4046-8466-bf9eac1fc994",
   "metadata": {},
   "outputs": [],
   "source": [
    "### Q No. 8 : Mention functions that will help to us to find the version of python that we are currently working on ?\n",
    "\n",
    "##  The function sys.version can help us to find the version of python that we are currently working on.\n"
   ]
  },
  {
   "cell_type": "code",
   "execution_count": 29,
   "id": "83b4deb9-64f7-4177-826f-c446d938c55f",
   "metadata": {},
   "outputs": [],
   "source": [
    "### Q No. 9 : Python supports the creation of anonymous functions at runtime,using a construct called ?\n",
    "\n",
    "##  the lambda keyword is used to define an anonymous function in Python."
   ]
  },
  {
   "cell_type": "code",
   "execution_count": 30,
   "id": "7bf2d84f-c817-4c1e-bd80-dae5ca3b99d0",
   "metadata": {},
   "outputs": [
    {
     "data": {
      "text/plain": [
       "'\\nPIP is a recursive acronym for “Preferred Installer Program” or PIP Installs Packages.\\nIt is a command-line utility that installs, reinstalls, or uninstalls PyPI packages with one simple command: pip.\\n'"
      ]
     },
     "execution_count": 30,
     "metadata": {},
     "output_type": "execute_result"
    }
   ],
   "source": [
    "### Q No. 10 : What does pip stand for python ?\n",
    "\n",
    "\"\"\"\n",
    "PIP is a recursive acronym for “Preferred Installer Program” or PIP Installs Packages.\n",
    "It is a command-line utility that installs, reinstalls, or uninstalls PyPI packages with one simple command: pip.\n",
    "\"\"\""
   ]
  },
  {
   "cell_type": "code",
   "execution_count": 31,
   "id": "4b926b48-be2c-4d8a-b6de-74cb2ed45c23",
   "metadata": {},
   "outputs": [
    {
     "data": {
      "text/plain": [
       "'print( ) function\\n   type( ) function\\n   input( ) function\\n   len( ) function\\n   sum( ) function'"
      ]
     },
     "execution_count": 31,
     "metadata": {},
     "output_type": "execute_result"
    }
   ],
   "source": [
    "### Q No. 11 : Mention a few built-in functions in python ?\n",
    "\n",
    "\n",
    "\"\"\"print( ) function\n",
    "   type( ) function\n",
    "   input( ) function\n",
    "   len( ) function\n",
    "   sum( ) function\"\"\""
   ]
  },
  {
   "cell_type": "code",
   "execution_count": 32,
   "id": "858924ac-3f59-439c-8f11-e5e6ace1d9e6",
   "metadata": {},
   "outputs": [],
   "source": [
    "### Q No. 12 : What is maximum possible length of an identifier in python ?\n",
    "\n",
    "##  79"
   ]
  },
  {
   "cell_type": "code",
   "execution_count": 33,
   "id": "64f19c01-4e87-4aed-9b42-13e8331a16f6",
   "metadata": {},
   "outputs": [
    {
     "data": {
      "text/plain": [
       "\"Python can be used to develop both desktop and web apps and complex scientific and numerical applications.\\nPython's data analysis features help you create custom big data solutions without so much time and effort.\\nYou can also use the Python data visualization libraries and APIs to present data in a more appealing way.\""
      ]
     },
     "execution_count": 33,
     "metadata": {},
     "output_type": "execute_result"
    }
   ],
   "source": [
    "### Q No. 13 : What are benefits of using python ?\n",
    "\n",
    "\"\"\"Python can be used to develop both desktop and web apps and complex scientific and numerical applications.\n",
    "Python's data analysis features help you create custom big data solutions without so much time and effort.\n",
    "You can also use the Python data visualization libraries and APIs to present data in a more appealing way.\"\"\""
   ]
  },
  {
   "cell_type": "code",
   "execution_count": 36,
   "id": "45aa7ab1-ccfc-4b92-bbf2-9bec5afe4e30",
   "metadata": {},
   "outputs": [
    {
     "data": {
      "text/plain": [
       "' Python uses the dynamic memory allocation which is managed by the Heap data structure. \\nMemory Heap holds the objects and other data structures that will be used in the program. \\nPython memory manager manages the allocation or de-allocation of the heap memory space through the API functions.'"
      ]
     },
     "execution_count": 36,
     "metadata": {},
     "output_type": "execute_result"
    }
   ],
   "source": [
    "### Q No. 14 : How is memory managed in python ?\n",
    "\"\"\" Python uses the dynamic memory allocation which is managed by the Heap data structure. \n",
    "Memory Heap holds the objects and other data structures that will be used in the program. \n",
    "Python memory manager manages the allocation or de-allocation of the heap memory space through the API functions.\"\"\""
   ]
  },
  {
   "cell_type": "code",
   "execution_count": 34,
   "id": "9be69b54-58d3-49af-8ad6-01f1e0514544",
   "metadata": {},
   "outputs": [
    {
     "data": {
      "text/plain": [
       "'install python from python.org\\nThe complete path of python.exe can be added by:\\n\\nRight-clicking This PC and going to Properties.\\n\\nClicking on the Advanced system settings in the menu on the left.\\n\\nClicking on the Environment Variables button on the bottom right.\\n\\nIn the System variables section, selecting the Path variable and clicking on Edit. The next screen will show all the directories that are currently a part of the PATH variable.\\n\\nClicking on New and entering Python’s install directory.\\n\\nPython can now be used directly from the command prompt without having to write its location. Try executing the command python --version; it will output the version of Python installed on your system.'"
      ]
     },
     "execution_count": 34,
     "metadata": {},
     "output_type": "execute_result"
    }
   ],
   "source": [
    "### Q No. 15 : How to install python on windows and set path variables ?\n",
    "\n",
    "\"\"\"install python from python.org\n",
    "The complete path of python.exe can be added by:\n",
    "\n",
    "Right-clicking This PC and going to Properties.\n",
    "\n",
    "Clicking on the Advanced system settings in the menu on the left.\n",
    "\n",
    "Clicking on the Environment Variables button on the bottom right.\n",
    "\n",
    "In the System variables section, selecting the Path variable and clicking on Edit. The next screen will show all the directories that are currently a part of the PATH variable.\n",
    "\n",
    "Clicking on New and entering Python’s install directory.\n",
    "\n",
    "Python can now be used directly from the command prompt without having to write its location. Try executing the command python --version; it will output the version of Python installed on your system.\"\"\"\n"
   ]
  },
  {
   "cell_type": "code",
   "execution_count": 35,
   "id": "5f7e1796-50c9-4812-8628-4c98269b409d",
   "metadata": {},
   "outputs": [
    {
     "data": {
      "text/plain": [
       "'Indentation refers to the spaces at the beginning of a code line.\\nWhere in other programming languages the indentation in code is for readability only,\\nthe indentation in Python is very important.\\nPython uses indentation to indicate a block of code'"
      ]
     },
     "execution_count": 35,
     "metadata": {},
     "output_type": "execute_result"
    }
   ],
   "source": [
    "### Q No. 16 : Is indentation required in python ?\n",
    "\n",
    "\"\"\"Indentation refers to the spaces at the beginning of a code line.\n",
    "Where in other programming languages the indentation in code is for readability only,\n",
    "the indentation in Python is very important.\n",
    "Python uses indentation to indicate a block of code\"\"\""
   ]
  }
 ],
 "metadata": {
  "kernelspec": {
   "display_name": "Python 3 (ipykernel)",
   "language": "python",
   "name": "python3"
  },
  "language_info": {
   "codemirror_mode": {
    "name": "ipython",
    "version": 3
   },
   "file_extension": ".py",
   "mimetype": "text/x-python",
   "name": "python",
   "nbconvert_exporter": "python",
   "pygments_lexer": "ipython3",
   "version": "3.10.8"
  }
 },
 "nbformat": 4,
 "nbformat_minor": 5
}
